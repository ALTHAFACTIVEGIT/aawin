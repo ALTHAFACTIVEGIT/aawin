{
 "cells": [
  {
   "cell_type": "code",
   "execution_count": 1,
   "metadata": {},
   "outputs": [],
   "source": [
    "old_business_codes = [2123]\n",
    "old_business_code_with_new_code = {\n",
    "#     1951: 9000,\n",
    "#     1614: 9001,\n",
    "#     2148: 9002,\n",
    "#     2197: 9003,\n",
    "#     2275: 9004,\n",
    "#     2298: 9005,\n",
    "#     2300: 9006,\n",
    "#     2304: 9007,\n",
    "#     2305: 9008,\n",
    "#     2313: 9009,\n",
    "#     2341: 9010,\n",
    "#     2348: 9011,\n",
    "#     2353: 9012,\n",
    "#     2356: 9013,\n",
    "#     2324: 9014,\n",
    "#     2386: 9015,\n",
    "#     2413: 9016,\n",
    "#     2421: 9017,\n",
    "#     2568: 9018,\n",
    "#     2571: 9019,\n",
    "#     2599: 9020,\n",
    "#     2626: 9021,\n",
    "#     2843: 9022,\n",
    "#     2844: 9023\n",
    "    2123: 9025\n",
    "}\n"
   ]
  },
  {
   "cell_type": "code",
   "execution_count": 4,
   "metadata": {},
   "outputs": [
    {
     "data": {
      "text/plain": [
       "9025"
      ]
     },
     "execution_count": 4,
     "metadata": {},
     "output_type": "execute_result"
    }
   ],
   "source": [
    "find_new_business_code(2123)"
   ]
  },
  {
   "cell_type": "code",
   "execution_count": 3,
   "metadata": {},
   "outputs": [],
   "source": [
    "def find_new_business_code(old_code):\n",
    "    new_code = old_business_code_with_new_code[old_code]\n",
    "    return new_code"
   ]
  },
  {
   "cell_type": "code",
   "execution_count": 5,
   "metadata": {},
   "outputs": [
    {
     "data": {
      "text/html": [
       "<div>\n",
       "<style scoped>\n",
       "    .dataframe tbody tr th:only-of-type {\n",
       "        vertical-align: middle;\n",
       "    }\n",
       "\n",
       "    .dataframe tbody tr th {\n",
       "        vertical-align: top;\n",
       "    }\n",
       "\n",
       "    .dataframe thead th {\n",
       "        text-align: right;\n",
       "    }\n",
       "</style>\n",
       "<table border=\"1\" class=\"dataframe\">\n",
       "  <thead>\n",
       "    <tr style=\"text-align: right;\">\n",
       "      <th></th>\n",
       "      <th>business_agent_map_id</th>\n",
       "      <th>business_id</th>\n",
       "      <th>business_code</th>\n",
       "      <th>agent_id</th>\n",
       "      <th>user_profile_id</th>\n",
       "      <th>user_id</th>\n",
       "      <th>nominee_id</th>\n",
       "      <th>new_business_code</th>\n",
       "      <th>route_id</th>\n",
       "    </tr>\n",
       "  </thead>\n",
       "  <tbody>\n",
       "    <tr>\n",
       "      <th>0</th>\n",
       "      <td>1950</td>\n",
       "      <td>1951</td>\n",
       "      <td>2123</td>\n",
       "      <td>1950</td>\n",
       "      <td>1962</td>\n",
       "      <td>1969</td>\n",
       "      <td>1950</td>\n",
       "      <td>9025</td>\n",
       "      <td>[114, 115]</td>\n",
       "    </tr>\n",
       "  </tbody>\n",
       "</table>\n",
       "</div>"
      ],
      "text/plain": [
       "   business_agent_map_id  business_id business_code  agent_id  \\\n",
       "0                   1950         1951          2123      1950   \n",
       "\n",
       "   user_profile_id  user_id  nominee_id  new_business_code    route_id  \n",
       "0             1962     1969        1950               9025  [114, 115]  "
      ]
     },
     "execution_count": 5,
     "metadata": {},
     "output_type": "execute_result"
    }
   ],
   "source": [
    "import pandas as pd\n",
    "import datetime\n",
    "business_agent_obj = BusinessAgentMap.objects.filter(business__code__in=old_business_codes)\n",
    "business_agent_list = business_agent_obj.values_list('id','business_id', 'business__code','agent_id', 'agent__user_profile_id', 'agent__user_profile__user_id', 'nominee_id')\n",
    "business_agent_column = ['business_agent_map_id','business_id', 'business_code','agent_id', 'user_profile_id', 'user_id', 'nominee_id']\n",
    "business_agent_df = pd.DataFrame(business_agent_list, columns=business_agent_column)\n",
    "business_agent_df['new_business_code'] = business_agent_df.apply(lambda x: find_new_business_code(int(x['business_code'])), axis=1)\n",
    "\n",
    "route_business_obj = RouteBusinessMap.objects.filter(business__code__in=old_business_codes)\n",
    "route_business_list = list(route_business_obj.values_list('business_id', 'route_id'))\n",
    "route_business_column = ['business_id', 'route_id']\n",
    "route_business_df = pd.DataFrame(route_business_list, columns=route_business_column)\n",
    "route_business_df = route_business_df.groupby('business_id')['route_id'].apply(list)\n",
    "# merge route with business\n",
    "\n",
    "final_merge_with_route_df = business_agent_df.merge(route_business_df, how='left', left_on='business_id', right_on='business_id')\n",
    "final_merge_with_route_df"
   ]
  },
  {
   "cell_type": "code",
   "execution_count": 13,
   "metadata": {},
   "outputs": [
    {
     "name": "stdout",
     "output_type": "stream",
     "text": [
      "User created for - 9025\n",
      "UserProfile created created\n",
      "Agent created with code of - M646562_WS\n",
      "Business created\n",
      "Agent bank details created and mapped with new agent\n",
      "Nominee created for new agent\n",
      "Agent Walet created and mapped with new agent\n",
      "Agent mapped with business and nominee\n",
      "Business map with route id of - 114\n",
      "Business map with route id of - 115\n",
      "------------------------------\n"
     ]
    }
   ],
   "source": [
    "for index, row  in final_merge_with_route_df.iterrows():\n",
    "    # dupilicate    \n",
    "    user_obj = User.objects.filter(id=row['user_id']).values()[0]\n",
    "    user_obj['id'] = None\n",
    "    user_obj['username'] = row['new_business_code']\n",
    "    new_user_obj = User.objects.create(**user_obj)\n",
    "    print('User created for - {}'.format(user_obj['username']))\n",
    "    \n",
    "#   Dupilcate user profile and map with created user\n",
    "    user_profile_obj = UserProfile.objects.filter(id=row['user_profile_id']).values()[0]\n",
    "    user_profile_obj['id'] = None\n",
    "    user_profile_obj['user_id'] = new_user_obj.id\n",
    "    new_userprofile_obj = UserProfile.objects.create(**user_profile_obj)\n",
    "    print('UserProfile created created')\n",
    "    \n",
    "#     Dupilcate the agent old as new agent\n",
    "    agent_obj = Agent.objects.filter(id=row['agent_id']).values()[0]\n",
    "    agent_obj['id'] = None\n",
    "    agent_obj['user_profile_id'] = new_userprofile_obj.id\n",
    "    new_agent_code = str(agent_obj['agent_code']) + '_WS'\n",
    "    agent_obj['agent_code'] = new_agent_code\n",
    "    new_agent_obj = Agent.objects.create(**agent_obj)\n",
    "    print('Agent created with code of - {}'.format(agent_obj['agent_code']))\n",
    "    \n",
    "#     Dupicate business old as new business and change business_type to wholesale\n",
    "    business_obj = Business.objects.filter(id=row['business_id']).values()[0]\n",
    "    business_obj['id'] = None\n",
    "    business_obj['code'] = row['new_business_code']\n",
    "    business_obj['name'] = str(row['new_business_code']) + ' - Whole sale'\n",
    "    business_obj['business_type_id'] = 9\n",
    "    new_business_obj = Business.objects.create(**business_obj)\n",
    "    print('Business created')\n",
    "    \n",
    "#     Dupicate the old agent bank details\n",
    "    agent_bank_details_obj = AgentBankDetail.objects.filter(agent_id=row['agent_id']).values()[0]\n",
    "    agent_bank_details_obj['id'] = None\n",
    "    agent_bank_details_obj['agent_id'] = new_agent_obj.id\n",
    "    new_agent_bank_details_obj = AgentBankDetail.objects.create(**agent_bank_details_obj)\n",
    "    print('Agent bank details created and mapped with new agent')\n",
    "    \n",
    "#     Dupilcate nominee of the old agent \n",
    "    nominee_obj =  Nominee.objects.filter(id=row['nominee_id']).values()[0]\n",
    "    nominee_obj['id'] = None\n",
    "    new_nominee_obj = Nominee.objects.create(**nominee_obj)\n",
    "    print('Nominee created for new agent')\n",
    "\n",
    "#     Dupilicate agent wallet table\n",
    "    agent_wallet_obj = AgentWallet.objects.filter(agent_id=row['agent_id']).values()[0]\n",
    "    agent_wallet_obj['id'] = None\n",
    "    agent_wallet_obj['agent_id'] = new_agent_obj.id\n",
    "    new_agent_wallet_obj = AgentWallet.objects.create(**agent_wallet_obj)\n",
    "    print('Agent Walet created and mapped with new agent')\n",
    "\n",
    "#     Map business with agent and nominess\n",
    "    business_agent_map_obj = BusinessAgentMap.objects.filter(id=row['business_agent_map_id']).values()[0]\n",
    "    business_agent_map_obj['id'] = None\n",
    "    business_agent_map_obj['agent_id'] = new_agent_obj.id\n",
    "    business_agent_map_obj['business_id'] = new_business_obj.id\n",
    "    business_agent_map_obj['nominee_id'] = new_nominee_obj.id\n",
    "    new_business_agent_map_obj = BusinessAgentMap.objects.create(**business_agent_map_obj)\n",
    "    print('Agent mapped with business and nominee')\n",
    "\n",
    "#  Map new business with route\n",
    "    for route_id in row['route_id']:\n",
    "        RouteBusinessMap.objects.create(route_id=route_id, business_id=new_business_obj.id)\n",
    "        print('Business map with route id of - {}'.format(route_id))\n",
    "    print('------------------------------')"
   ]
  },
  {
   "cell_type": "code",
   "execution_count": 13,
   "metadata": {},
   "outputs": [
    {
     "data": {
      "text/plain": [
       "'2596_WS'"
      ]
     },
     "execution_count": 13,
     "metadata": {},
     "output_type": "execute_result"
    }
   ],
   "source": [
    "Agent.objects.get(user_profile__user__username=9021).agent_code"
   ]
  },
  {
   "cell_type": "code",
   "execution_count": 8,
   "metadata": {},
   "outputs": [
    {
     "data": {
      "text/plain": [
       "11165"
      ]
     },
     "execution_count": 8,
     "metadata": {},
     "output_type": "execute_result"
    }
   ],
   "source": [
    "BusinessAgentMap.objects.get(business__code=9025).agent.user_profile.user.id"
   ]
  },
  {
   "cell_type": "code",
   "execution_count": 14,
   "metadata": {},
   "outputs": [
    {
     "data": {
      "text/plain": [
       "'9025Whole sale'"
      ]
     },
     "execution_count": 14,
     "metadata": {},
     "output_type": "execute_result"
    }
   ],
   "source": [
    "Business.objects.get(code=9025).name"
   ]
  },
  {
   "cell_type": "code",
   "execution_count": null,
   "metadata": {},
   "outputs": [],
   "source": [
    "Bu"
   ]
  }
 ],
 "metadata": {
  "kernelspec": {
   "display_name": "Django Shell-Plus",
   "language": "python",
   "name": "django_extensions"
  },
  "language_info": {
   "codemirror_mode": {
    "name": "ipython",
    "version": 3
   },
   "file_extension": ".py",
   "mimetype": "text/x-python",
   "name": "python",
   "nbconvert_exporter": "python",
   "pygments_lexer": "ipython3",
   "version": "3.8.6"
  }
 },
 "nbformat": 4,
 "nbformat_minor": 2
}
