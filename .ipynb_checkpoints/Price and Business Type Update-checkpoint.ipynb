{
 "cells": [
  {
   "cell_type": "code",
   "execution_count": 3,
   "metadata": {},
   "outputs": [
    {
     "data": {
      "text/html": [
       "<style>.container { width:100% !important; }</style>"
      ],
      "text/plain": [
       "<IPython.core.display.HTML object>"
      ]
     },
     "metadata": {},
     "output_type": "display_data"
    }
   ],
   "source": [
    "from IPython.core.display import display, HTML\n",
    "display(HTML(\"<style>.container { width:100% !important; }</style>\"))\n",
    "from IPython.core.display import HTML\n",
    "\n",
    "import pandas as pd\n",
    "from decimal import Decimal"
   ]
  },
  {
   "cell_type": "code",
   "execution_count": 7,
   "metadata": {},
   "outputs": [],
   "source": [
    "upload_dict_list = [\n",
    "    {'business_code': '4272', 'change_to_business_type': 5, 'price_update': True },\n",
    "    {'business_code': '54262', 'change_to_business_type': 5, 'price_update': False },\n",
    "    {'business_code': '54268', 'change_to_business_type': 3, 'price_update': False },\n",
    "     ]"
   ]
  },
  {
   "cell_type": "code",
   "execution_count": 8,
   "metadata": {},
   "outputs": [],
   "source": [
    "def price_and_business_type_update_for_existing_business(upload_dict_list):\n",
    "    for dic in upload_dict_list:\n",
    "        business_obj = Business.objects.get(code=dic['business_code'])\n",
    "        daily_businessly_obj = DailySessionllyBusinessllySale.objects.filter(business_id=business_obj.id)\n",
    "\n",
    "        business_obj.business_type_id = dic['change_to_business_type']\n",
    "        business_obj.save()\n",
    "        daily_businessly_obj.update(business_type_id=dic['change_to_business_type'])\n",
    "#         daily_businessly_obj.save()\n",
    "        if dic['price_update'] == True:\n",
    "            # price_pre_product\n",
    "            business_wise_product_discount_list = list(BusinessWiseProductDiscount.objects.filter(business__code=dic['business_code']).values_list('business_id', 'product_id', 'discounted_price'))\n",
    "            business_wise_product_discount_column = ['business_id', 'product_id', 'discounted_price']\n",
    "            business_wise_product_discount_df = pd.DataFrame(business_wise_product_discount_list, columns=business_wise_product_discount_column)\n",
    "            business_wise_product_discount_df = business_wise_product_discount_df.groupby(['business_id', 'product_id']).agg({'discounted_price':max})\n",
    "\n",
    "            # convert_groupby_table_product_cost_row_wise_value_into_column(using_pandas_pivot_table)\n",
    "            business_wise_product_discount_df = pd.pivot_table(business_wise_product_discount_df, index='business_id', columns='product_id', aggfunc=min, fill_value=0)\n",
    "\n",
    "            #convert_pivot_table_to_normal_df\n",
    "            business_wise_product_discount_df.columns = business_wise_product_discount_df.columns.droplevel(0) #remove amount\n",
    "            business_wise_product_discount_df.columns.name = None  #remove categories\n",
    "            business_wise_product_discount_df = business_wise_product_discount_df.reset_index() #index to columns\n",
    "\n",
    "            #sosity product price dict\n",
    "            business_wise_product_discount_df = business_wise_product_discount_df.groupby('business_id')\n",
    "            business_wise_product_discount_dict = business_wise_product_discount_df.apply(lambda x:x.to_dict('r')[0]).to_dict() \n",
    "\n",
    "            print(business_wise_product_discount_dict)\n",
    "\n",
    "            #sale and salegroup price update\n",
    "            sale_group_obj = SaleGroup.objects.filter(business__code=dic['business_code'])\n",
    "            sale_obj = Sale.objects.filter(sale_group_id__in=sale_group_obj)\n",
    "            for sale_group in sale_group_obj:\n",
    "                sale_group_total_cost = 0\n",
    "                sale_group_sale = sale_obj.filter(sale_group_id=sale_group.id)\n",
    "                for sale in sale_group_sale:\n",
    "                    if sale.cost == 0 and sale.count == 0:\n",
    "                        print('hi')\n",
    "                        product_cost = 0\n",
    "                    else:\n",
    "                        product_cost = round(Decimal(float(sale.cost)/sale.count),2)\n",
    "                        sale_wise_product_cost = round(business_wise_product_discount_dict[sale_group.business_id][sale.product_id], 2)\n",
    "                        if product_cost != sale_wise_product_cost:\n",
    "                            print(sale.id, product_cost, sale_wise_product_cost, sale_group.date)\n",
    "                            temp_sale_cost = round(sale_wise_product_cost * Decimal(sale.count),2)\n",
    "                            sale.cost = temp_sale_cost\n",
    "                            sale.save()\n",
    "\n",
    "                            sale_group_total_cost += temp_sale_cost\n",
    "                sale_group.total_cost = sale_group_total_cost\n",
    "                sale_group.product_amount = sale_group_total_cost\n",
    "                sale_group.save()\n",
    "\n",
    "            # dailysessionlybusinessly socity data upload\n",
    "            daily_businessly_obj = DailySessionllyBusinessllySale.objects.filter(business__code=dic['business_code'], sold_to='Agent')\n",
    "            for i in daily_businessly_obj:\n",
    "                milk_cost = 0\n",
    "                curd_cost = 0\n",
    "                frg_cost = 0\n",
    "                total_cost = 0\n",
    "\n",
    "                fcm_cost = 0\n",
    "                sm_cost = 0\n",
    "                tm_cost = 0\n",
    "\n",
    "                print(i.tm500_cost, i.std250_cost, i.std500_cost, i.fcm500_cost, i.fcm1000_cost, i.curd500_cost, i.curd150_cost, i.cupcurd_cost,   i.milk_cost,  i.curd_cost, i.total_cost)     \n",
    "                #milk\n",
    "                #tm \n",
    "                if i.tm500_pkt != 0:\n",
    "                    cost = i.tm500_pkt * business_wise_product_discount_dict[i.business_id][1]\n",
    "                    i.tm500_cost = cost\n",
    "                    milk_cost += cost\n",
    "                    tm_cost += cost\n",
    "\n",
    "                #std\n",
    "                if i.std250_pkt != 0:\n",
    "                    cost = i.std250_pkt * business_wise_product_discount_dict[i.business_id][3]\n",
    "                    i.std250_cost = cost\n",
    "                    milk_cost += cost\n",
    "                    sm_cost += cost\n",
    "\n",
    "                if i.std500_pkt != 0:\n",
    "                    cost = i.std500_pkt * business_wise_product_discount_dict[i.business_id][2]\n",
    "                    i.std500_cost = cost\n",
    "                    milk_cost += cost\n",
    "                    sm_cost += cost\n",
    "\n",
    "                #fcm\n",
    "                if i.fcm500_pkt != 0:\n",
    "                    cost = i.fcm500_pkt * business_wise_product_discount_dict[i.business_id][4]\n",
    "                    i.fcm500_cost = cost\n",
    "                    milk_cost += cost\n",
    "                    fcm_cost += cost\n",
    "\n",
    "                if i.fcm1000_pkt != 0:\n",
    "                    cost = i.fcm1000_pkt * business_wise_product_discount_dict[i.business_id][6]\n",
    "                    i.fcm1000_cost = cost\n",
    "                    milk_cost += cost\n",
    "                    fcm_cost += cost\n",
    "\n",
    "                #curd \n",
    "                if i.curd500_pkt != 0:\n",
    "                    cost = i.curd500_pkt * business_wise_product_discount_dict[i.business_id][25]\n",
    "                    i.curd500_cost = cost\n",
    "                    curd_cost += cost\n",
    "\n",
    "                if i.curd150_pkt != 0:\n",
    "                    cost = i.curd150_pkt * business_wise_product_discount_dict[i.business_id][7]\n",
    "                    i.curd150_cost = cost\n",
    "                    curd_cost += cost\n",
    "\n",
    "                if i.cupcurd_count != 0:\n",
    "                    if business_wise_product_discount_dict[i.business_id][10] != 0:\n",
    "                        cost = i.cupcurd_count * business_wise_product_discount_dict[i.business_id][10]\n",
    "                        i.cupcurd_cost = cost\n",
    "                        curd_cost += cost\n",
    "\n",
    "                #butter_milk\n",
    "                if i.buttermilk200_pkt != 0:\n",
    "                    if business_wise_product_discount_dict[i.business_id][8] != 0:\n",
    "                        cost = i.buttermilk200_pkt * business_wise_product_discount_dict[i.business_id][8]\n",
    "                        i.buttermilk200_cost = cost\n",
    "                        frg_cost += cost\n",
    "\n",
    "                i.fcm_cost = fcm_cost\n",
    "                i.sm_cost = sm_cost\n",
    "                i.tm_cost = tm_cost\n",
    "\n",
    "                i.milk_cost = milk_cost\n",
    "                i.curd_cost = curd_cost \n",
    "                i.fermented_products_cost = frg_cost + i.lassi_cost + curd_cost\n",
    "                i.total_cost = i.milk_cost + i.fermented_products_cost\n",
    "\n",
    "                i.save()\n",
    "                print(i.tm500_cost, i.std250_cost, i.std500_cost, i.fcm500_cost, i.fcm1000_cost, i.curd500_cost, i.curd150_cost, i.cupcurd_cost,   i.milk_cost,  i.curd_cost, i.total_cost, i.id)      \n",
    "                print()\n",
    "            \n",
    "    "
   ]
  },
  {
   "cell_type": "code",
   "execution_count": 10,
   "metadata": {},
   "outputs": [
    {
     "name": "stdout",
     "output_type": "stream",
     "text": [
      "{2779: {'business_id': 2779, 1: Decimal('21.50'), 2: Decimal('23.50'), 3: Decimal('12.00'), 4: Decimal('25.50'), 6: Decimal('51.00'), 7: Decimal('10.00'), 8: Decimal('0.00'), 10: Decimal('12.00'), 23: Decimal('49.00'), 25: Decimal('29.00')}}\n",
      "1465265 1.00 23.50 2020-09-29\n",
      "1481346 1.00 23.50 2020-10-05\n",
      "1494156 1.00 23.50 2020-10-09\n",
      "1516089 1.00 23.50 2020-10-16\n",
      "1537917 1.00 23.50 2020-10-24\n",
      "1577680 1.00 23.50 2020-11-06\n",
      "1589631 1.00 23.50 2020-11-10\n",
      "1617505 1.00 23.50 2020-11-20\n",
      "1627707 1.00 23.50 2020-11-24\n",
      "1662557 1.00 23.50 2020-12-05\n",
      "1677357 1.00 23.50 2020-12-10\n",
      "1696238 1.00 23.50 2020-12-17\n",
      "1710568 1.00 23.50 2020-12-22\n",
      "1811568 1.00 23.50 2021-01-25\n",
      "1873177 1.00 23.50 2021-02-13\n",
      "1888473 1.00 23.50 2021-02-18\n",
      "hi\n",
      "hi\n",
      "0.00 0.00 20.00 0.00 0.00 580.00 0.00 0.00 20.00 580.00 600.00\n",
      "0.00 0.00 470.00 0.00 0.00 580.00 0.00 0.00 470.00 580.00 1050.00 757486\n",
      "\n",
      "0.00 0.00 0.00 0.00 0.00 0.00 0.00 0.00 0.00 0.00 0.00\n",
      "0.00 0.00 0.00 0.00 0.00 0.00 0.00 0.00 0 0 0.00 628321\n",
      "\n",
      "0.00 0.00 30.00 0.00 0.00 870.00 0.00 0.00 30.00 870.00 900.00\n",
      "0.00 0.00 705.00 0.00 0.00 870.00 0.00 0.00 705.00 870.00 1575.00 708393\n",
      "\n",
      "0.00 0.00 40.00 0.00 0.00 1160.00 0.00 0.00 40.00 1160.00 1200.00\n",
      "0.00 0.00 940.00 0.00 0.00 1160.00 0.00 0.00 940.00 1160.00 2100.00 662260\n",
      "\n",
      "0.00 0.00 20.00 0.00 0.00 580.00 0.00 0.00 20.00 580.00 600.00\n",
      "0.00 0.00 470.00 0.00 0.00 580.00 0.00 0.00 470.00 580.00 1050.00 865038\n",
      "\n",
      "0.00 0.00 40.00 0.00 0.00 1160.00 0.00 0.00 40.00 1160.00 1200.00\n",
      "0.00 0.00 940.00 0.00 0.00 1160.00 0.00 0.00 940.00 1160.00 2100.00 684381\n",
      "\n",
      "0.00 0.00 40.00 0.00 0.00 1160.00 0.00 0.00 40.00 1160.00 1200.00\n",
      "0.00 0.00 940.00 0.00 0.00 1160.00 0.00 0.00 940.00 1160.00 2100.00 631334\n",
      "\n",
      "0.00 0.00 40.00 0.00 0.00 1160.00 0.00 0.00 40.00 1160.00 1200.00\n",
      "0.00 0.00 940.00 0.00 0.00 1160.00 0.00 0.00 940.00 1160.00 2100.00 649062\n",
      "\n",
      "0.00 0.00 20.00 0.00 0.00 580.00 0.00 0.00 20.00 580.00 600.00\n",
      "0.00 0.00 470.00 0.00 0.00 580.00 0.00 0.00 470.00 580.00 1050.00 881912\n",
      "\n",
      "0.00 0.00 32.00 0.00 0.00 928.00 0.00 0.00 32.00 928.00 960.00\n",
      "0.00 0.00 752.00 0.00 0.00 928.00 0.00 0.00 752.00 928.00 1680.00 816244\n",
      "\n",
      "0.00 0.00 20.00 0.00 0.00 580.00 0.00 0.00 20.00 580.00 600.00\n",
      "0.00 0.00 470.00 0.00 0.00 580.00 0.00 0.00 470.00 580.00 1050.00 907023\n",
      "\n",
      "0.00 0.00 20.00 0.00 0.00 580.00 0.00 0.00 20.00 580.00 600.00\n",
      "0.00 0.00 470.00 0.00 0.00 580.00 0.00 0.00 470.00 580.00 1050.00 848168\n",
      "\n",
      "0.00 0.00 20.00 0.00 0.00 580.00 0.00 0.00 20.00 580.00 600.00\n",
      "0.00 0.00 470.00 0.00 0.00 580.00 0.00 0.00 470.00 580.00 1050.00 924031\n",
      "\n",
      "0.00 0.00 40.00 0.00 0.00 1160.00 0.00 0.00 40.00 1160.00 1200.00\n",
      "0.00 0.00 940.00 0.00 0.00 1160.00 0.00 0.00 940.00 1160.00 2100.00 1036517\n",
      "\n",
      "0.00 0.00 20.00 0.00 0.00 580.00 0.00 0.00 20.00 580.00 600.00\n",
      "0.00 0.00 470.00 0.00 0.00 580.00 0.00 0.00 470.00 580.00 1050.00 1104225\n",
      "\n",
      "0.00 0.00 20.00 0.00 0.00 580.00 0.00 0.00 20.00 580.00 600.00\n",
      "0.00 0.00 470.00 0.00 0.00 580.00 0.00 0.00 470.00 580.00 1050.00 1120926\n",
      "\n",
      "0.00 0.00 20.00 0.00 0.00 580.00 0.00 0.00 20.00 580.00 600.00\n",
      "0.00 0.00 470.00 0.00 0.00 580.00 0.00 0.00 470.00 580.00 1050.00 803987\n",
      "\n"
     ]
    }
   ],
   "source": [
    "price_and_business_type_update_for_existing_business(upload_dict_list)"
   ]
  },
  {
   "cell_type": "code",
   "execution_count": 25,
   "metadata": {},
   "outputs": [],
   "source": [
    "column = ['a', 'b', 'c']\n",
    "value = []\n",
    "df = pd.DataFrame(value, columns=column, index=['null'])"
   ]
  },
  {
   "cell_type": "code",
   "execution_count": 27,
   "metadata": {},
   "outputs": [
    {
     "data": {
      "text/html": [
       "<div>\n",
       "<style scoped>\n",
       "    .dataframe tbody tr th:only-of-type {\n",
       "        vertical-align: middle;\n",
       "    }\n",
       "\n",
       "    .dataframe tbody tr th {\n",
       "        vertical-align: top;\n",
       "    }\n",
       "\n",
       "    .dataframe thead th {\n",
       "        text-align: right;\n",
       "    }\n",
       "</style>\n",
       "<table border=\"1\" class=\"dataframe\">\n",
       "  <thead>\n",
       "    <tr style=\"text-align: right;\">\n",
       "      <th></th>\n",
       "      <th>a</th>\n",
       "      <th>b</th>\n",
       "      <th>c</th>\n",
       "    </tr>\n",
       "  </thead>\n",
       "  <tbody>\n",
       "  </tbody>\n",
       "</table>\n",
       "</div>"
      ],
      "text/plain": [
       "Empty DataFrame\n",
       "Columns: [a, b, c]\n",
       "Index: []"
      ]
     },
     "execution_count": 27,
     "metadata": {},
     "output_type": "execute_result"
    }
   ],
   "source": [
    "df.drop('null')"
   ]
  },
  {
   "cell_type": "code",
   "execution_count": 11,
   "metadata": {},
   "outputs": [
    {
     "data": {
      "text/plain": [
       "0"
      ]
     },
     "execution_count": 11,
     "metadata": {},
     "output_type": "execute_result"
    }
   ],
   "source": [
    "df"
   ]
  },
  {
   "cell_type": "code",
   "execution_count": null,
   "metadata": {},
   "outputs": [],
   "source": []
  }
 ],
 "metadata": {
  "kernelspec": {
   "display_name": "Django Shell-Plus",
   "language": "python",
   "name": "django_extensions"
  },
  "language_info": {
   "codemirror_mode": {
    "name": "ipython",
    "version": 3
   },
   "file_extension": ".py",
   "mimetype": "text/x-python",
   "name": "python",
   "nbconvert_exporter": "python",
   "pygments_lexer": "ipython3",
   "version": "3.8.6"
  }
 },
 "nbformat": 4,
 "nbformat_minor": 2
}
