{
 "cells": [
  {
   "cell_type": "code",
   "execution_count": 1,
   "metadata": {},
   "outputs": [],
   "source": [
    "import pandas as pd\n",
    "import datetime"
   ]
  },
  {
   "cell_type": "code",
   "execution_count": 2,
   "metadata": {},
   "outputs": [
    {
     "data": {
      "text/plain": [
       "11"
      ]
     },
     "execution_count": 2,
     "metadata": {},
     "output_type": "execute_result"
    }
   ],
   "source": [
    "icustomer_id = ICustomer.objects.get(customer_code='1234').id\n",
    "icustomer_id"
   ]
  },
  {
   "cell_type": "code",
   "execution_count": null,
   "metadata": {},
   "outputs": [],
   "source": [
    "sale_obj = ICustomerSale.objects.filter(icustomer_sale_group__icustomer_id=icustomer_id).order_by('-icustomer_sale_group_id')\n",
    "sale_list = list(sale_obj.values_list('id', 'icustomer_sale_group', 'icustomer_sale_group__business_id', 'icustomer_sale_group__business__code',\n",
    "                                      'icustomer_sale_group__business__business_type_id', 'icustomer_sale_group__icustomer_id',\n",
    "                                      'icustomer_sale_group__icustomer__customer_code',\n",
    "                                      'icustomer_sale_group__date', 'icustomer_sale_group__session',\n",
    "                                      'icustomer_sale_group__session__display_name', 'icustomer_sale_group__ordered_via',\n",
    "                                      'icustomer_sale_group__ordered_via__name', 'icustomer_sale_group__payment_status__name',\n",
    "                                      'icustomer_sale_group__sale_status__name', 'icustomer_sale_group__total_cost',\n",
    "                                      'product__group_id', 'product__group__name', 'product__quantity', 'product',\n",
    "                                      'product__name', 'count', 'cost','icustomer_sale_group__time_created'))\n",
    "sale_column = ['sale_id', 'sale_group_id', 'business_id', 'business_code', 'business_type_id', 'icustomer_id',\n",
    "               'icustomer_code', 'date', 'session_id', 'session_name',\n",
    "               'ordered_via_id', 'ordered_via_name','payment_status',\n",
    "               'sale_status',\n",
    "               'session_wise_price', 'product_group_id', 'product_group_name', 'product_default_quantity',\n",
    "               'product_id', 'product_name', 'count', 'product_cost','order_date']\n",
    "sale_df = pd.DataFrame(sale_list, columns=sale_column)\n",
    "a"
   ]
  }
 ],
 "metadata": {
  "kernelspec": {
   "display_name": "Django Shell-Plus",
   "language": "python",
   "name": "django_extensions"
  },
  "language_info": {
   "codemirror_mode": {
    "name": "ipython",
    "version": 3
   },
   "file_extension": ".py",
   "mimetype": "text/x-python",
   "name": "python",
   "nbconvert_exporter": "python",
   "pygments_lexer": "ipython3",
   "version": "3.6.5"
  }
 },
 "nbformat": 4,
 "nbformat_minor": 2
}
