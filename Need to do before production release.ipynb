{
 "cells": [
  {
   "cell_type": "markdown",
   "metadata": {},
   "source": [
    "#### Change wallet balance to 0 for all agents."
   ]
  },
  {
   "cell_type": "code",
   "execution_count": null,
   "metadata": {},
   "outputs": [],
   "source": [
    "for agent_wallet in AgentWallet.objects.all():\n",
    "    agent_wallet.current_balance = 0\n",
    "    agent_wallet.save()\n",
    "print('Updated')"
   ]
  },
  {
   "cell_type": "markdown",
   "metadata": {},
   "source": [
    "### Delete all active Tokens."
   ]
  },
  {
   "cell_type": "code",
   "execution_count": 3,
   "metadata": {},
   "outputs": [
    {
     "data": {
      "text/plain": [
       "(16, {'authtoken.Token': 16})"
      ]
     },
     "execution_count": 3,
     "metadata": {},
     "output_type": "execute_result"
    }
   ],
   "source": [
    "Token.objects.all().delete()"
   ]
  },
  {
   "cell_type": "code",
   "execution_count": 3,
   "metadata": {},
   "outputs": [
    {
     "name": "stdout",
     "output_type": "stream",
     "text": [
      "Enter Session_id 1\n",
      "Enter Business_code 123\n",
      "Enter Delivery Date 2020-05-05\n",
      "time created - 2020-05-04 02:57:28.633064+00:00\n",
      "time modified - 2020-05-04 05:32:20.869941+00:00\n"
     ]
    }
   ],
   "source": [
    "session_id = input('Enter Session_id ')\n",
    "business_code = input('Enter Business_code ')\n",
    "order_date = input('Enter Delivery Date ')\n",
    "sale_group = SaleGroup.objects.get(session_id=session_id, date=order_date, business__code=business_code)\n",
    "print('time created - {}'.format(sale_group.time_created))\n",
    "print('time modified - {}'.format(sale_group.time_modified))"
   ]
  },
  {
   "cell_type": "code",
   "execution_count": 18,
   "metadata": {},
   "outputs": [],
   "source": [
    "for icustomer in ICustomer.objects.filter():\n",
    "    if ICustomerSaleGroup.objects.filter(icustomer=icustomer, session_id=1, date__month=5).count() > 1:\n",
    "#         ICustomerSaleGroup.objects.filter(icustomer=icustomer, session_id=2, date__month=5)[1].delete()\n",
    "        print(icustomer.customer_code)"
   ]
  },
  {
   "cell_type": "code",
   "execution_count": 1,
   "metadata": {},
   "outputs": [
    {
     "name": "stdout",
     "output_type": "stream",
     "text": [
      "zone\tactive\tall\n",
      "-----\t------\t---\n",
      "EAST\t141\t298\n",
      "WEST\t122\t206\n",
      "SOUTH\t176\t300\n",
      "POLLACHI\t31\t103\n",
      "NORTH\t157\t285\n",
      "MTP\t62\t106\n",
      "NILGIRIS\t1\t1\n",
      "MPCS\t0\t0\n",
      "TIRUPPUR\t3\t21\n",
      "CURD Zone\t2\t21\n"
     ]
    }
   ],
   "source": [
    "# Mark businesses inactive if they have NO sale recorded in SaleGroup.\n",
    "# It considers all the entries in SG. Ideally if we can restrict it to one month it will be even better.\n",
    "\n",
    "\n",
    "print(\"{}\\t{}\\t{}\".format('zone', 'active', 'all'))\n",
    "print(\"{}\\t{}\\t{}\".format('-----', '------', '---'))\n",
    "\n",
    "active_businesse_codes = list(set(SaleGroup.objects.all().values_list('business__code', flat=True)))\n",
    "for zone in Zone.objects.all():\n",
    "    all_businesses = Business.objects.filter(zone=zone)\n",
    "    for business in all_businesses:\n",
    "        business.is_active = False;\n",
    "        business.save()\n",
    "       \n",
    "    active_businesses = Business.objects.filter(code__in=active_businesse_codes, zone=zone)\n",
    "    for business in active_businesses:\n",
    "        business.is_active = True;\n",
    "        business.save()\n",
    "       \n",
    "    print(\"{}\\t{}\\t{}\".format(zone.name, active_businesses.count(), all_businesses.count()))"
   ]
  },
  {
   "cell_type": "code",
   "execution_count": 2,
   "metadata": {},
   "outputs": [
    {
     "name": "stdout",
     "output_type": "stream",
     "text": [
      "SGid(counter)\t\t\tcreated on(created by)\t\t\tmodified by\t order for/session\t\tRs.total_cost\n",
      "-----(------)\t\t\t----------(----------)\t\t\t------------\t --------/-------\t\tRs.----------\n",
      "321353(R.S puram - West)\t2020-05-01 08:27:16(West Zone Officer)\tnot modified\t 2020-05-02/Mor\t\tRs.11057.50\n",
      "320705(R.S puram - West)\t2020-04-30 09:34:31(West Zone Officer)\tnot modified\t 2020-05-01/Mor\t\tRs.10493.50\n",
      "320369(R.S puram - West)\t2020-04-29 12:43:14(West Zone Officer)\t2020-04-29 12:43:15(West Zone Officer)\t 2020-04-30/Mor\t\tRs.11181.50\n",
      "318447(R.S puram - West)\t2020-04-25 08:15:01(West Zone Officer)\tnot modified\t 2020-04-26/Mor\t\tRs.10797.50\n",
      "318320(R.S puram - West)\t2020-04-24 12:21:57(West Zone Officer)\tnot modified\t 2020-04-25/Mor\t\tRs.10593.50\n",
      "316749(R.S puram - West)\t2020-04-22 08:26:35(West Zone Officer)\tnot modified\t 2020-04-23/Mor\t\tRs.10593.50\n",
      "316182(R.S puram - West)\t2020-04-21 07:28:53(West Zone Officer)\tnot modified\t 2020-04-22/Mor\t\tRs.10593.50\n",
      "87733(R.S puram - West)\t2020-03-05 12:16:04(Mr. Kesaveraj)\tnot modified\t 2020-03-06/Mor\t\tRs.9623.00\n"
     ]
    }
   ],
   "source": [
    "print(\"{}({})\\t\\t\\t{}({})\\t\\t\\t{}\\t {}/{}\\t\\tRs.{}\".format('SGid', 'counter', 'created on', 'created by', 'modified by', 'order for', 'session', 'total_cost'))\n",
    "print(\"{}({})\\t\\t\\t{}({})\\t\\t\\t{}\\t {}/{}\\t\\tRs.{}\".format('-----', '------', '----------', '----------', '------------', '--------', '-------', '----------'))\n",
    "\n",
    "for sg in SaleGroup.objects.filter(business__code='40').order_by('-date'):\n",
    "    counter = CounterEmployeeTraceSaleGroupMap.objects.get(sale_group__id=sg.id).counter_employee_trace.counter.name\n",
    "    sg_modified_time = sg.time_modified.strftime(\"%Y-%m-%d %H:%M:%S\") + '('+sg.modified_by.first_name+')'\n",
    "    if sg.time_modified.strftime(\"%Y-%m-%d %H:%M:%S\") == sg.time_created.strftime(\"%Y-%m-%d %H:%M:%S\"):\n",
    "        sg_modified_time = 'not modified'\n",
    "    print(\"{}({})\\t{}({})\\t{}\\t {}/{}\\t\\tRs.{}\".format(sg.id, counter, sg.time_created.strftime(\"%Y-%m-%d %H:%M:%S\"), sg.ordered_by.first_name, sg_modified_time, sg.date, sg.session, sg.total_cost))"
   ]
  },
  {
   "cell_type": "code",
   "execution_count": null,
   "metadata": {},
   "outputs": [],
   "source": []
  }
 ],
 "metadata": {
  "kernelspec": {
   "display_name": "Django Shell-Plus",
   "language": "python",
   "name": "django_extensions"
  },
  "language_info": {
   "codemirror_mode": {
    "name": "ipython",
    "version": 3
   },
   "file_extension": ".py",
   "mimetype": "text/x-python",
   "name": "python",
   "nbconvert_exporter": "python",
   "pygments_lexer": "ipython3",
   "version": "3.6.5"
  }
 },
 "nbformat": 4,
 "nbformat_minor": 2
}
